{
 "cells": [
  {
   "cell_type": "code",
   "execution_count": 11,
   "id": "ac0fa198",
   "metadata": {},
   "outputs": [],
   "source": [
    "import numpy as np\n",
    "\n",
    "class Node:\n",
    "    def __init__(self, feature = None, threshold = None, left = None, right = None, value=None):\n",
    "        \n",
    "        self.feature = feature\n",
    "        self.threshold = threshold\n",
    "        self.left = left\n",
    "        self.right = right\n",
    "        self.value = value"
   ]
  },
  {
   "cell_type": "code",
   "execution_count": 12,
   "id": "a7e61906",
   "metadata": {},
   "outputs": [],
   "source": [
    "class DecisionTree:\n",
    "    def __init__(self, max_depth=None):\n",
    "        self.max_depth = max_depth\n",
    "        self.root = None\n",
    "    \n",
    "    def fit(self, X, y):\n",
    "        self.root = self.grow_tree(X, y)\n",
    "    \n",
    "    def gini_impurity(self, y):\n",
    "        _, counts = np.unique(y, return_counts = True)\n",
    "        probabilities = counts / len(y)\n",
    "        return 1 - np.sum(probabilities ** 2)\n",
    "    \n",
    "    def information_gain(self, parent, left_child, right_child):\n",
    "        weight_left = len(left_child) / len(parent)\n",
    "        weight_right = len(right_child) / len(parent)\n",
    "        \n",
    "        return (self.gini_impurity(parent) - (weight_left * self.gini_impurity(left_child) +\n",
    "                                             weight_right * self.gini_impurity(right_child)))\n",
    "    def best_split(self, X, y):\n",
    "        best_gain = -1\n",
    "        best_feature, best_threshold = None, None\n",
    "        \n",
    "        for feature in range(X.shape[1]):\n",
    "            thresholds = np.unique(X[:, feature])\n",
    "            for threshold in thresholds:\n",
    "                left_mask = X[:, feature] <=threshold\n",
    "                right_mask = ~left_mask\n",
    "                gain = self.information_gain(y, y[left_mask], y[right_mask])\n",
    "                \n",
    "                if gain > best_gain:\n",
    "                    best_gain = gain\n",
    "                    best_feature = feature\n",
    "                    best_threshold = threshold\n",
    "        return best_feature, best_threshold\n",
    "    \n",
    "    def grow_tree(self, X, y, depth = 0):\n",
    "        n_samples, n_features = X.shape\n",
    "        n_classes = len(np.unique(y))\n",
    "        \n",
    "        if(depth == self.max_depth or n_samples  < 2 or n_classes == 1):\n",
    "            return Node(value = np.argmax(np.bincount(y)))\n",
    "        \n",
    "        \n",
    "        feature, threshold = self.best_split(X, y)\n",
    "        left_mask = X[:, feature] <=threshold\n",
    "        right_mask = ~left_mask\n",
    "        left = self.grow_tree(X[left_mask], y[left_mask], depth+1)\n",
    "        right = self.grow_tree(X[right_mask], y[right_mask], depth+1)\n",
    "        \n",
    "        return Node(feature = feature, threshold=threshold, left = left, right = right)\n",
    "    \n",
    "    def predict(self, X):\n",
    "        return np.array([self.traverse_tree(x, self.root) for x in X])\n",
    "    \n",
    "    def traverse_tree(self, x, node):\n",
    "        if node.value is not None:\n",
    "            return node.value\n",
    "        if x[node.feature] <= node.threshold:\n",
    "            return self.traverse_tree(x, node.left)\n",
    "        else:\n",
    "            return self.traverse_tree(x, node.right)"
   ]
  },
  {
   "cell_type": "code",
   "execution_count": 13,
   "id": "5a9bb7f8",
   "metadata": {},
   "outputs": [
    {
     "name": "stdout",
     "output_type": "stream",
     "text": [
      "Predictions: [0 0 1 1]\n"
     ]
    }
   ],
   "source": [
    "X = np.array([[1, 2], [3, 4], [5, 6], [7, 8]])\n",
    "y = np.array([0, 0 ,1 ,1])\n",
    "tree = DecisionTree(max_depth = 3)\n",
    "tree.fit(X, y)\n",
    "predictions = tree.predict(X)\n",
    "print(f\"Predictions: {predictions}\")"
   ]
  },
  {
   "cell_type": "code",
   "execution_count": 14,
   "id": "2b503177",
   "metadata": {},
   "outputs": [],
   "source": [
    "from collections import Counter\n",
    "class RandomForestClassifier:\n",
    "    def __init__(self, n_estimators = 10, max_depth = 10, max_features = None):\n",
    "        \n",
    "        self.n_estimators = n_estimators\n",
    "        self.max_depth = max_depth\n",
    "        self.max_features = max_features\n",
    "        self.trees = []\n",
    "        \n",
    "    def bootstrap_sample(self, X, y):\n",
    "        n_samples=X.shape[0]\n",
    "        indices = np.random.choice(n_samples, size = n_samples, replace=True)\n",
    "        return X[indices], y[indices]\n",
    "    \n",
    "    def fit(self, X, y):\n",
    "        self.trees = []\n",
    "        n_features = X.shape[1]\n",
    "        max_features = self.max_features if self.max_features else n_features\n",
    "        \n",
    "        for i in range(self.n_estimators):\n",
    "            \n",
    "            tree = DecisionTree(max_depth = self.max_depth)\n",
    "            \n",
    "            X_sample, y_sample = self.bootstrap_sample(X, y)\n",
    "            \n",
    "            selected_features = np.random.choice(n_features, size = max_features, replace=True)\n",
    "            \n",
    "            X_sample_subset = X_sample[:, selected_features]\n",
    "            \n",
    "            tree.fit(X_sample_subset, y_sample)\n",
    "            \n",
    "            self.trees.append((tree, selected_features))\n",
    "    \n",
    "    def predict(self, X):\n",
    "        tree_predictions = np.array([tree.predict(X[:, features]) for tree, features in self.trees])\n",
    "        majority_votes = [Counter(tree_predictions[:, i]).most_common(1)[0][0] for i in range(X.shape[0])]\n",
    "        return np.array(majority_votes)\n",
    "        "
   ]
  },
  {
   "cell_type": "code",
   "execution_count": 15,
   "id": "2b73ecb1",
   "metadata": {},
   "outputs": [],
   "source": [
    "# Home Work: Random Forest Regressor\n",
    "# Upload your code into discord server"
   ]
  },
  {
   "cell_type": "code",
   "execution_count": 16,
   "id": "ace7a3e8",
   "metadata": {},
   "outputs": [],
   "source": [
    "X = np.array([[1, 2], [3, 4], [5, 6], [7, 8], [9, 10], [11, 12]])\n",
    "y = np.array([0, 0, 1, 1, 1, 1])\n",
    "\n",
    "model = RandomForestClassifier(n_estimators=10, max_depth=5, max_features=1)\n",
    "model.fit(X, y)\n",
    "predictions = model.predict(X)"
   ]
  },
  {
   "cell_type": "code",
   "execution_count": 17,
   "id": "097238e9",
   "metadata": {},
   "outputs": [
    {
     "name": "stdout",
     "output_type": "stream",
     "text": [
      "Predictions: [0 0 1 1 1 1]\n"
     ]
    }
   ],
   "source": [
    "print(f\"Predictions: {predictions}\")"
   ]
  },
  {
   "cell_type": "code",
   "execution_count": 21,
   "id": "fd1b6d70",
   "metadata": {},
   "outputs": [],
   "source": [
    "from sklearn.datasets import make_classification\n",
    "X, y = make_classification(n_samples = 1000, n_features = 10, n_informative = 5, \n",
    "                          n_redundant = 5, random_state = 42)\n"
   ]
  },
  {
   "cell_type": "code",
   "execution_count": 22,
   "id": "a063e5b6",
   "metadata": {},
   "outputs": [],
   "source": [
    "model = RandomForestClassifier(n_estimators=10, max_depth=5, max_features=1)\n",
    "model.fit(X, y)\n",
    "predictions = model.predict(X)"
   ]
  },
  {
   "cell_type": "code",
   "execution_count": 24,
   "id": "b1de42c7",
   "metadata": {},
   "outputs": [
    {
     "data": {
      "text/plain": [
       "array([0, 1, 0, 0, 0], dtype=int64)"
      ]
     },
     "execution_count": 24,
     "metadata": {},
     "output_type": "execute_result"
    }
   ],
   "source": [
    "predictions[:5]"
   ]
  },
  {
   "cell_type": "code",
   "execution_count": null,
   "id": "01fba3aa",
   "metadata": {},
   "outputs": [],
   "source": []
  }
 ],
 "metadata": {
  "kernelspec": {
   "display_name": "Python 3",
   "language": "python",
   "name": "python3"
  },
  "language_info": {
   "codemirror_mode": {
    "name": "ipython",
    "version": 3
   },
   "file_extension": ".py",
   "mimetype": "text/x-python",
   "name": "python",
   "nbconvert_exporter": "python",
   "pygments_lexer": "ipython3",
   "version": "3.8.5"
  }
 },
 "nbformat": 4,
 "nbformat_minor": 5
}
